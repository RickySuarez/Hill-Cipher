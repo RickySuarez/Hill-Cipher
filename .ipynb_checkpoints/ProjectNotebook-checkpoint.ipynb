{
 "cells": [
  {
   "cell_type": "markdown",
   "metadata": {},
   "source": [
    "# Project Description"
   ]
  },
  {
   "cell_type": "markdown",
   "metadata": {},
   "source": [
    "For my project, I decided to code a unique method of encryption. This encryption uses the Hill Cipher in order to encrypt and decrypt messages. The Hill Cipher works by using a matrix that is invertible mod 256. That is, given a matrix A, there exists another matrix B such that AB ≡ I (mod 256). In other words, given a column matrix x, then:\n",
    "\n",
    "- Ax ≡ y (mod 256)\n",
    "- By ≡ x (mod 256)\n",
    "\n",
    "Furthermore, I wanted to be able to encrypt while having as little input from the user as possible. So, I made an encryptor generator that will make a random invertible matrix and return an Encryptor object that is defined by that random matrix and its inverse. In order to do that, one only has to call `functions.encryptor_generator()`. Once the Encryptor object has been made, you can use the `Encryptor.encrypt()` and `Encryptor.decrypt()` functions in order to encrypt and decrypt a string respectively. Everything else is handled within the function. Note that this only work for the characters with unicode values up to 256 since otherwise there could be overflow issues. \n",
    "\n",
    "If one wanted to supply their own matrices, the constructor for the Encryptor class has two parameters: matrix and inverse. Both are numpy arrays. However, I do not recommend creating your own Encryptor object since that requires supplying two matrices that are inverses of each other mod 256. To spare anyone of having to perform the modular linear algebra required to do that, all that needs to be used is the `functions.encryptor_generator()` function.\n",
    "\n",
    "All of the functions/methods I have written are:\n",
    "\n",
    "- `functions.encryptor_generator()`: \n",
    "    - Returns an Encryptor object\n",
    "    <p>&nbsp;</p>\n",
    "- `Encryptor.encrypt(str)`: \n",
    "    - An instance method that accepts a string str and returns a string encryption of str.\n",
    "    <p>&nbsp;</p>\n",
    "- `Encryptor.decrypt(str)`: \n",
    "    - An instance method that accepts a string str and returns the string decryption of str.\n",
    "    <p>&nbsp;</p> \n",
    "- `functions.gcd_extended(m, n)`: \n",
    "    - Takes two integers m,n and returns gcd, x, y where:\n",
    "        - gcd is the greatest common divisor of m and n\n",
    "        - x is the Bezozut coefficient of m\n",
    "        - y is the Bezout coefficient of n\n",
    "\n",
    "Below is a demonstration of how creating multiple Encryptor objects will lead to different encryption results but will ultimately still allow the encoded messages to be decrypted. "
   ]
  },
  {
   "cell_type": "markdown",
   "metadata": {},
   "source": [
    "## Project Code\n",
    "\n",
    "If it makes sense for your project, you can have code and outputs here in the notebook as well."
   ]
  },
  {
   "cell_type": "code",
   "execution_count": 1,
   "metadata": {},
   "outputs": [],
   "source": [
    "# Import the functions that are used in this project.\n",
    "import my_module.functions as functions"
   ]
  },
  {
   "cell_type": "code",
   "execution_count": 2,
   "metadata": {
    "scrolled": true
   },
   "outputs": [
    {
     "name": "stdout",
     "output_type": "stream",
     "text": [
      "Before encryption:\n",
      "May your heart be your guiding key!\n",
      "\n",
      "────────────\n",
      "Encryptor 1:\n",
      "\n",
      "  After encryption:\n",
      "  \u0001n\u0001éñ\bÕW",
      "\b\u0006YF\u0012âX}\bÕW",
      "×¤É½",
      "\u0002\u0014ùñÙ\n",
      "\n",
      "  After decryption:\n",
      "  May your heart be your guiding key!\n",
      "\n",
      "────────────\n",
      "Encryptor 2:\n",
      "\n",
      "  After encryption:\n",
      "  \u0001\u000b",
      "¿àëå\u0013&\u000fx \u000b",
      "\u0007|6ö\u0010à¯å\u0013&\u000f\r",
      "Èc÷ãD\r",
      "²¹(\u0013Gã\n",
      "\n",
      "  After decryption:\n",
      "  May your heart be your guiding key!\n",
      "\n",
      "────────────\n",
      "Encryptor 3:\n",
      "\n",
      "  After encryption:\n",
      "  \u0001Ö\u0013C]|ëu\r",
      "¸ð^2âî§ù|ëu\r",
      "ÁÞÆk[V»ä&;\u001be\n",
      "\n",
      "  After decryption:\n",
      "  May your heart be your guiding key!\n",
      "\n",
      "────────────\n",
      "Encryptor 4:\n",
      "\n",
      "  After encryption:\n",
      "  \u0001F-máH\tm(à>\u0005\u001e",
      "\"êÐI­H\tms6Uñ\u001c",
      "\u0019\u0006Gè6EÉ\n",
      "\n",
      "  After decryption:\n",
      "  May your heart be your guiding key!\n",
      "\n",
      "────────────\n",
      "Encryptor 5:\n",
      "\n",
      "  After encryption:\n",
      "  \u0001ÿGF!½FÈXl¿¼âÎÛhF!½FwÁä÷Uéq»\u001d",
      "\u0004çè\n",
      "\n",
      "  After decryption:\n",
      "  May your heart be your guiding key!\n",
      "\n",
      "────────────\n",
      "Encryptor 6:\n",
      "\n",
      "  After encryption:\n",
      "  \u0001eÓç\u0013§®ë¨à\u0005»LN`l{\u0013§®ëO «q\\W³ ]»Ü?\n",
      "\n",
      "  After decryption:\n",
      "  May your heart be your guiding key!\n",
      "\n",
      "────────────\n",
      "Encryptor 7:\n",
      "\n",
      "  After encryption:\n",
      "  \u0001wþR!%ÈÔ\u001f\bÈ§Ö\b\u0016Ò*m%ÈÔ\u001fË¯®ÍUçÝ¿C_®\u0002é\n",
      "\n",
      "  After decryption:\n",
      "  May your heart be your guiding key!\n",
      "\n",
      "────────────\n",
      "Encryptor 8:\n",
      "\n",
      "  After encryption:\n",
      "  \u0001ôoÝn\u001aÕ\u0018Xhl?0&òù\u001aÕ\u0018¥ÿTgßIëãq£4\u0017Åþ\n",
      "\n",
      "  After decryption:\n",
      "  May your heart be your guiding key!\n",
      "\n",
      "────────────\n",
      "Encryptor 9:\n",
      "\n",
      "  After encryption:\n",
      "  \u0001\u0013ÝLezGØ03\u0005DæN\u0004\\ÓezGÁ~«\u0005\u001fþé\u001d",
      "F[µLw\n",
      "\n",
      "  After decryption:\n",
      "  May your heart be your guiding key!\n",
      "\n",
      "────────────\n",
      "Encryptor 10:\n",
      "\n",
      "  After encryption:\n",
      "  \u0001)ëDI\u0003ú0øqß¾D¤ö¯ôI\u0003úîÍ±w>3X\u0005öy¡ç£\n",
      "\n",
      "  After decryption:\n",
      "  May your heart be your guiding key!\n",
      "\n",
      "────────────\n"
     ]
    }
   ],
   "source": [
    "# Define the number of encryptor objects to make.\n",
    "num_of_encryptors = 10\n",
    "encryptors = [functions.encryptor_generator() for e in range(num_of_encryptors)]\n",
    "\n",
    "# Message to be encoded. This can only include characters within the first 256 Unicode values.\n",
    "message = 'May your heart be your guiding key!'\n",
    "print('Before encryption:')\n",
    "print(message)\n",
    "print()\n",
    "\n",
    "# Loop demonstrating how each encryptor encodes the string differently\n",
    "# but is still always able to decrypt back to the original message. \n",
    "count = 1\n",
    "print(12 * chr(0x2500))\n",
    "for encryptor in encryptors:\n",
    "    \n",
    "    # Print the header.\n",
    "    print('Encryptor ' + str(count) + ':')\n",
    "    print()\n",
    "    \n",
    "    # Encrypt the message and print the encryption.\n",
    "    encrypted = encryptor.encrypt(message)\n",
    "    print('  After encryption:')\n",
    "    print('  ' + encrypted)\n",
    "    print()\n",
    "    \n",
    "    # Decrypt the encryption and print the decryption.\n",
    "    decrypted = encryptor.decrypt(encrypted)\n",
    "    print('  After decryption:')\n",
    "    print('  ' + decrypted)\n",
    "    print()\n",
    "    \n",
    "    # Print the border.\n",
    "    print(12 * chr(0x2500))\n",
    "    \n",
    "    #Iterate the count for the header of the next Encryptor object.\n",
    "    count += 1"
   ]
  },
  {
   "cell_type": "code",
   "execution_count": 3,
   "metadata": {
    "scrolled": true
   },
   "outputs": [
    {
     "name": "stdout",
     "output_type": "stream",
     "text": [
      "\u001b[1m============================= test session starts ==============================\u001b[0m\n",
      "platform linux -- Python 3.9.5, pytest-8.0.2, pluggy-1.4.0\n",
      "rootdir: /home/r2suarez/Project_COGS18_SP24\n",
      "plugins: anyio-3.2.1\n",
      "collected 4 items                                                              \u001b[0m\u001b[1m\n",
      "\n",
      "my_module/test_functions.py \u001b[32m.\u001b[0m\u001b[32m.\u001b[0m\u001b[32m.\u001b[0m\u001b[32m.\u001b[0m\u001b[32m                                         [100%]\u001b[0m\n",
      "\n",
      "\u001b[32m============================== \u001b[32m\u001b[1m4 passed\u001b[0m\u001b[32m in 0.55s\u001b[0m\u001b[32m ===============================\u001b[0m\n"
     ]
    }
   ],
   "source": [
    "# Run the python tests.\n",
    "import os\n",
    "os.environ['PYTHONPATH'] = os.getcwd()\n",
    "!pytest my_module/test_functions.py"
   ]
  },
  {
   "cell_type": "markdown",
   "metadata": {},
   "source": [
    "#### Extra Credit (*optional*)\n",
    "\n",
    "I do have a fairly large amount of programming experience. Of all the programming languages I know (Java, MATLAB, C, C++, Python) Python is the one I have the least amount of experience with. One hurdle that I had to overcome was in how to represent matrices as a numpy array. After working on this project though, I have discovered that much of the arithmetic works similarily to MATLAB so adjusting was not an overly difficult thing to do. I feel that my project has gone above and beyond the project requirements because I was able to provide a method of encryption that is not a simple substitution of characters, leans heavily into my background in mathematics, and offers users an easy way to access a complex encryption strategy without having to understand the modular linear algebra behind it. "
   ]
  }
 ],
 "metadata": {
  "kernelspec": {
   "display_name": "Python 3 (ipykernel)",
   "language": "python",
   "name": "python3"
  },
  "language_info": {
   "codemirror_mode": {
    "name": "ipython",
    "version": 3
   },
   "file_extension": ".py",
   "mimetype": "text/x-python",
   "name": "python",
   "nbconvert_exporter": "python",
   "pygments_lexer": "ipython3",
   "version": "3.9.5"
  }
 },
 "nbformat": 4,
 "nbformat_minor": 2
}
