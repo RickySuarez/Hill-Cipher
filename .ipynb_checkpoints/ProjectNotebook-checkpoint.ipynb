{
 "cells": [
  {
   "cell_type": "markdown",
   "metadata": {},
   "source": [
    "# Project Description"
   ]
  },
  {
   "cell_type": "markdown",
   "metadata": {},
   "source": [
    "For my project, I decided to code a unique method of encryption. This encryption uses the Hill Cipher in order to encrypt and decrypt messages. The Hill Cipher works by using a matrix that is invertible modulo $256$. That is, given a matrix $A$, there exists another matrix $B$ such that $AB ≡ I \\mod{256}$. In other words, given a column matrix $x$, then:\n",
    "\n",
    "- $Ax ≡ y \\mod{256}$\n",
    "- $By ≡ x \\mod{256}$\n",
    "\n",
    "Furthermore, I wanted to be able to encrypt while having as little input from the user as possible. So, I made an encryptor generator that will make a random invertible matrix and return an Encryptor object that is defined by that random matrix and its inverse. In order to do that, one only has to call `functions.encryptor_generator()`. Once the Encryptor object has been made, you can use the `Encryptor.encrypt()` and `Encryptor.decrypt()` functions in order to encrypt and decrypt a string respectively. Everything else is handled within the function. Note that this only work for the characters with unicode values up to $256$ since otherwise there could be overflow issues. \n",
    "\n",
    "If one wanted to supply their own matrices, the constructor for the Encryptor class has two parameters: matrix and inverse. Both are numpy arrays. However, I do not recommend creating your own Encryptor object since that requires supplying two matrices that are inverses of each other modulo $256$. To spare anyone of having to perform the modular linear algebra required to do that, all that needs to be used is the `encryptor_generator()` function.\n",
    "\n",
    "All of the functions/methods I have written are:\n",
    "\n",
    "- `generator.encryptor_generator()`: \n",
    "    - Returns an Encryptor object\n",
    "    <p>&nbsp;</p>\n",
    "- `Encryptor.encrypt(str)`: \n",
    "    - An instance method that accepts a string str and returns a string encryption of str.\n",
    "    <p>&nbsp;</p>\n",
    "- `Encryptor.decrypt(str)`: \n",
    "    - An instance method that accepts a string str and returns the string decryption of str.\n",
    "    <p>&nbsp;</p> \n",
    "- `generator.gcd_extended(m, n)`: \n",
    "    - Takes two integers m,n and returns gcd, x, y where:\n",
    "        - gcd is the greatest common divisor of m and n\n",
    "        - x is the Bezozut coefficient of m\n",
    "        - y is the Bezout coefficient of n\n",
    "        \n",
    "An interesting piece of information is about how I made the `encryptor_generator()` function. Within the function, there is a `while` loop that terminates when the greatest common divisor of the determinant of the randomly generated matrix and $256$ is $1$. This is necessary to determine if an inverse exists for the matrix. However this begs the question: what will happen if the greatest common divisor is never $1$? In theory, this would mean the loop would never end.\n",
    "\n",
    "However, this is highly unlikely. Consider the probability of generating a valid matrix after exactly $k$ iterations. Since $2^8$ is the prime factorization of $256$, this means that $\\gcd(256,x)=1$ $\\iff x$ is odd. If we assume there is a uniform distribution across all possible determinants, then we have that the probability of recieving an invalid matrix is $\\frac{128}{256}=\\frac{1}{2}$ at each iteration. Therefore, the probability of recieving a valid matrix after $k$ iterations is $P(x=k)=\\frac{1}{2^k}=2^{-k}$.\n",
    "\n",
    "For reference, let's say we want to know how likely it is that the while loop ran for $20$ iterations. Then $P(x=20)=2^{-20}\\approx 0.00000095$. As you can see, this is highly unlikely. In fact, the expected number of iterations in total is $2$. Now for infinitely many iterations, we have $\\lim_\\limits{k\\to \\infty}P(x=k)=\\lim_\\limits{k\\to \\infty}2^{-k}=0$. Therefore in practice, this will most likely never happen.\n",
    "\n",
    "Now I know the math is interesting, but it is best to see this code work in practice. Below is a demonstration of how creating multiple Encryptor objects will lead to different encryption results but will ultimately still allow the encoded messages to be decrypted. "
   ]
  },
  {
   "cell_type": "markdown",
   "metadata": {},
   "source": [
    "## Project Code"
   ]
  },
  {
   "cell_type": "code",
   "execution_count": 1,
   "metadata": {
    "scrolled": true
   },
   "outputs": [],
   "source": [
    "# Import the functions that are used in this project.\n",
    "from my_module.generator import encryptor_generator"
   ]
  },
  {
   "cell_type": "code",
   "execution_count": 2,
   "metadata": {
    "scrolled": true
   },
   "outputs": [
    {
     "name": "stdout",
     "output_type": "stream",
     "text": [
      "Before encryption:\n",
      "May your heart be your guiding key!\n",
      "\n",
      "────────────\n",
      "Encryptor 1:\n",
      "\n",
      "  After encryption:\n",
      "  \u0001\u000fnØåñpVËX¨O¦\\NÎxañpVËA£O¡QY·w\u001e",
      "¸Í\n",
      "\n",
      "  After decryption:\n",
      "  May your heart be your guiding key!\n",
      "\n",
      "────────────\n",
      "Encryptor 2:\n",
      "\n",
      "  After encryption:\n",
      "  \u0001?íVRup\u0018¨Ï ÖÉ^Rup\r",
      "w<·7ñ39;gU&\n",
      "\n",
      "  After decryption:\n",
      "  May your heart be your guiding key!\n",
      "\n",
      "────────────\n",
      "Encryptor 3:\n",
      "\n",
      "  After encryption:\n",
      "  \u0001¹`§3¡2×yPH¡hZìb;×¡2×yj÷Á r\u0005\\\u0002;1\u0000?K\n",
      "\n",
      "  After decryption:\n",
      "  May your heart be your guiding key!\n",
      "\n",
      "────────────\n",
      "Encryptor 4:\n",
      "\n",
      "  After encryption:\n",
      "  \u0001êí³ÃHÕ-SX\u0010òubÞ6<W§HÕ-S}Âz|éúzÅ»\n",
      "\n",
      "  After decryption:\n",
      "  May your heart be your guiding key!\n",
      "\n",
      "────────────\n",
      "Encryptor 5:\n",
      "\n",
      "  After encryption:\n",
      "  \u0001ÉF&#kL\u0014õ88ÙÎ\b26\u000eî\u0007kL\u0014õ\r",
      "1¶»k\u0001k¹Máv6û\n",
      "\n",
      "  After decryption:\n",
      "  May your heart be your guiding key!\n",
      "\n",
      "────────────\n",
      "Encryptor 6:\n",
      "\n",
      "  After encryption:\n",
      "  \u0001çÛ»&KyOØà¯ë¶°@\u001a?îKyOØpË_3\\º?0¿/£3ö\n",
      "\n",
      "  After decryption:\n",
      "  May your heart be your guiding key!\n",
      "\n",
      "────────────\n",
      "Encryptor 7:\n",
      "\n",
      "  After encryption:\n",
      "  \u0001=Iá»A|\u0000xµê\u0018\u00189\u0006á»A|¥å\u0011Ð©tñUaen\n",
      "\n",
      "  After decryption:\n",
      "  May your heart be your guiding key!\n",
      "\n",
      "────────────\n",
      "Encryptor 8:\n",
      "\n",
      "  After encryption:\n",
      "  \u0001§\u001aÞÙ½¼X?¨h÷2°V\u0002ZFÅ½¼X?7;_ªQÙ;\tûïjîá\n",
      "\n",
      "  After decryption:\n",
      "  May your heart be your guiding key!\n",
      "\n",
      "────────────\n",
      "Encryptor 9:\n",
      "\n",
      "  After encryption:\n",
      "  \u0001CRE«+0%e0Ø{ÒÔVÁï+0%eöí\u001b\"^\u000f,\u0017Þë¢C\n",
      "\n",
      "  After decryption:\n",
      "  May your heart be your guiding key!\n",
      "\n",
      "────────────\n",
      "Encryptor 10:\n",
      "\n",
      "  After encryption:\n",
      "  \u0001y÷r»\u0003;ØoØ`©¿0ö\u001e",
      "`Ê?\u0003;Øo¹àÁïÿì\u0015*5à¿â3\n",
      "\n",
      "  After decryption:\n",
      "  May your heart be your guiding key!\n",
      "\n",
      "────────────\n"
     ]
    }
   ],
   "source": [
    "# Define the number of encryptor objects to make.\n",
    "num_of_encryptors = 10\n",
    "encryptors = [encryptor_generator() for e in range(num_of_encryptors)]\n",
    "\n",
    "# Message to be encoded. This can only include characters within the first 256 Unicode values.\n",
    "message = 'May your heart be your guiding key!'\n",
    "print('Before encryption:')\n",
    "print(message)\n",
    "print()\n",
    "\n",
    "# Loop demonstrating how each encryptor encodes the string differently\n",
    "# but is still always able to decrypt back to the original message. \n",
    "count = 1\n",
    "print(12 * chr(0x2500))\n",
    "for encryptor in encryptors:\n",
    "    \n",
    "    # Print the header.\n",
    "    print('Encryptor ' + str(count) + ':')\n",
    "    print()\n",
    "    \n",
    "    # Encrypt the message and print the encryption.\n",
    "    encrypted = encryptor.encrypt(message)\n",
    "    print('  After encryption:')\n",
    "    print('  ' + encrypted)\n",
    "    print()\n",
    "    \n",
    "    # Decrypt the encryption and print the decryption.\n",
    "    decrypted = encryptor.decrypt(encrypted)\n",
    "    print('  After decryption:')\n",
    "    print('  ' + decrypted)\n",
    "    print()\n",
    "    \n",
    "    # Print the border.\n",
    "    print(12 * chr(0x2500))\n",
    "    \n",
    "    #Iterate the count for the header of the next Encryptor object.\n",
    "    count += 1"
   ]
  },
  {
   "cell_type": "code",
   "execution_count": 3,
   "metadata": {
    "scrolled": true
   },
   "outputs": [
    {
     "name": "stdout",
     "output_type": "stream",
     "text": [
      "\u001b[1m============================= test session starts ==============================\u001b[0m\n",
      "platform linux -- Python 3.9.5, pytest-8.0.2, pluggy-1.4.0\n",
      "rootdir: /home/r2suarez/Hill-Cipher\n",
      "plugins: anyio-3.2.1\n",
      "collected 6 items                                                              \u001b[0m\n",
      "\n",
      "my_module/test_functions.py \u001b[32m.\u001b[0m\u001b[32m.\u001b[0m\u001b[32m.\u001b[0m\u001b[32m.\u001b[0m\u001b[32m.\u001b[0m\u001b[32m.\u001b[0m\u001b[32m                                       [100%]\u001b[0m\n",
      "\n",
      "\u001b[32m============================== \u001b[32m\u001b[1m6 passed\u001b[0m\u001b[32m in 0.60s\u001b[0m\u001b[32m ===============================\u001b[0m\n"
     ]
    }
   ],
   "source": [
    "# Run the pytest.\n",
    "!pytest"
   ]
  },
  {
   "cell_type": "markdown",
   "metadata": {},
   "source": [
    "#### Extra Credit (*optional*)\n",
    "\n",
    "I do have a fairly large amount of programming experience. Of all the programming languages I know (Java, MATLAB, C, C++, Python) Python is the one I have the least amount of experience with. One hurdle that I had to overcome was in how to represent matrices as a numpy array. After working on this project though, I have discovered that much of the arithmetic works similarily to MATLAB so adjusting was not an overly difficult thing to do. I feel that my project has gone above and beyond the project requirements because I was able to provide a method of encryption that is not a simple substitution of characters, leans heavily into my background in mathematics, and offers users an easy way to access a complex encryption strategy without having to understand the modular linear algebra behind it. Furthermore, I had to make a decision over whether a while loop approach was worth doing. After calculating the likelihood that a loop would run for many iterations, I decided that my approach would work well which is something I have never done before."
   ]
  }
 ],
 "metadata": {
  "kernelspec": {
   "display_name": "Python 3 (ipykernel)",
   "language": "python",
   "name": "python3"
  },
  "language_info": {
   "codemirror_mode": {
    "name": "ipython",
    "version": 3
   },
   "file_extension": ".py",
   "mimetype": "text/x-python",
   "name": "python",
   "nbconvert_exporter": "python",
   "pygments_lexer": "ipython3",
   "version": "3.9.5"
  }
 },
 "nbformat": 4,
 "nbformat_minor": 2
}
