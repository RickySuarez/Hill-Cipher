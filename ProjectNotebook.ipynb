{
 "cells": [
  {
   "cell_type": "markdown",
   "metadata": {},
   "source": [
    "# Project Description"
   ]
  },
  {
   "cell_type": "markdown",
   "metadata": {},
   "source": [
    "For my project, I decided to code a unique method of encryption. This encryption uses the Hill Cipher in order to encrypt and decrypt messages. The Hill Cipher works by using a matrix that is invertible modulo $256$. That is, given a matrix $A$, there exists another matrix $B$ such that $AB ≡ I \\mod{256}$. In other words, given a column matrix $\\vec{x}$, then:\n",
    "\n",
    "- $A\\vec{x} ≡ \\vec{y} \\mod{256}$\n",
    "- $B\\vec{y} ≡ \\vec{x} \\mod{256}$\n",
    "\n",
    "Furthermore, I wanted to be able to encrypt while having as little input from the user as possible. To accomplish this, I designed the Encryptor class in a way that randomly generates a valid matrix-inverse pair once an Encryptor object is made. Once the Encryptor object has been made, you can use the `Encryptor.encrypt(str)` and `Encryptor.decrypt(str)` functions in order to encrypt and decrypt a string respectively. Everything else is handled within the function. Note that this only work for the characters with unicode values up to $256$ since otherwise there could be overflow issues. \n",
    "\n",
    "All of the functions/methods I have written are:\n",
    "\n",
    "- `Encryptor.matrix_generator()`: \n",
    "    - Returns two numpy arrays matrix,inverse that are valid inverses of each other.\n",
    "    <p>&nbsp;</p>\n",
    "- `Encryptor.encrypt(str)`: \n",
    "    - An instance method that accepts a string str and returns a string encryption of str.\n",
    "    <p>&nbsp;</p>\n",
    "- `Encryptor.decrypt(str)`: \n",
    "    - An instance method that accepts a string str and returns the string decryption of str.\n",
    "    <p>&nbsp;</p> \n",
    "- `Encryptor.gcd_extended(m, n)`: \n",
    "    - Takes two integers m,n and returns gcd, x, y where:\n",
    "        - gcd is the greatest common divisor of m and n\n",
    "        - x is the Bezozut coefficient of m\n",
    "        - y is the Bezout coefficient of n\n",
    "        <p>&nbsp;</p> \n",
    "- `matrix_operations.cofactor(np, i, j)`:\n",
    "    - Takes in a numpy array and indices i,j and calculates the cofactor for the entry located at row i and column j.\n",
    "    <p>&nbsp;</p> \n",
    "- `matrix_operations.determinant(np)`:\n",
    "    - Takes in a numpy array and calculates the determinant if it is square or raises an exception if it is not square.\n",
    "    <p>&nbsp;</p> \n",
    "- `matrix_operations.submatrix(np, i, j)`:\n",
    "    - Takes in a numpy array and indices i,j and returns a submatrix where the ith row and jth column of np are deleted.\n",
    "    <p>&nbsp;</p> \n",
    "- `matrix_operations.transpose(np)`:\n",
    "    - Takes in a numpy array and returns the transpose as a numpy array.\n",
    "    <p>&nbsp;</p> \n",
    "- `matrix_operations.adjoint(np)`:\n",
    "    - Takes in a numpy array and returns the adjoint as a numpy array.\n",
    "    <p>&nbsp;</p> \n",
    "        \n",
    "An interesting piece of information is about how I made the `matrix_generator()` function. Within the function, there is a `while` loop that terminates when the greatest common divisor of the determinant of the randomly generated matrix and $256$ is $1$. This is necessary to determine if an inverse exists for the matrix. However this begs the question: what will happen if the greatest common divisor is never $1$? In theory, this would mean the loop would never end.\n",
    "\n",
    "However, this is highly unlikely. Consider the probability of generating a valid matrix after exactly $k$ iterations. Since $2^8$ is the prime factorization of $256$, this means that $\\gcd(256,a)=1$ $\\iff a$ is odd. If we assume there is a uniform distribution across all possible determinants, then we have that the probability of receiving an invalid matrix is $\\frac{128}{256}=\\frac{1}{2}$ at each iteration. Therefore, the probability of receiving a valid matrix after $k$ iterations is $P(k)=\\frac{1}{2^k}=2^{-k}$.\n",
    "\n",
    "For reference, let's say we want to know how likely it is that the while loop ran for $20$ iterations. Then $P(20)=2^{-20}\\approx 0.00000095$. As you can see, this is highly unlikely. In fact, the expected number of iterations in total is $2$. Now for infinitely many iterations, we have: $$\\lim_{k \\to \\infty} P(k) = \\lim_{k \\to \\infty} 2^{-k} = 0$$\n",
    "Therefore in practice, this will most likely never happen.\n",
    "\n",
    "Now I know the math is interesting, but it is best to see this code work in practice. Below is a demonstration of how creating multiple Encryptor objects will lead to different encryption results but will ultimately still allow the encoded messages to be decrypted. "
   ]
  },
  {
   "cell_type": "markdown",
   "metadata": {},
   "source": [
    "## Project Code"
   ]
  },
  {
   "cell_type": "code",
   "execution_count": 1,
   "metadata": {
    "scrolled": true
   },
   "outputs": [],
   "source": [
    "# Import the functions that are used in this project.\n",
    "from my_module.Encryptor import Encryptor\n",
    "from random import randrange"
   ]
  },
  {
   "cell_type": "code",
   "execution_count": 2,
   "metadata": {
    "scrolled": true
   },
   "outputs": [
    {
     "name": "stdout",
     "output_type": "stream",
     "text": [
      "Before encryption:\n",
      "May your heart be your guiding key!\n",
      "\n",
      "────────────\n",
      "Encryptor 1:\n",
      "\n",
      "  After encryption:\n",
      "  \u0001øè÷3'a=\u001aHsZR\u000eç{H.f©ªÈHÈW>¯\"PzI\n",
      "\n",
      "  After decryption:\n",
      "  May your heart be your guiding key!\n",
      "\n",
      "────────────\n",
      "Encryptor 2:\n",
      "\n",
      "  After encryption:\n",
      "  \u0001°ô­ÁW\u001fþ]VP\\Dj^X°\t©­i?àåìLöÿÌì\n",
      "\n",
      "  After decryption:\n",
      "  May your heart be your guiding key!\n",
      "\n",
      "────────────\n",
      "Encryptor 3:\n",
      "\n",
      "  After encryption:\n",
      "  \u0000õðoa97×S8Û{kYÛ\u0011p_ÎÝj«c\u001ahð)®ÔD\u0015\n",
      "\n",
      "  After decryption:\n",
      "  May your heart be your guiding key!\n",
      "\n",
      "────────────\n",
      "Encryptor 4:\n",
      "\n",
      "  After encryption:\n",
      "\u0004×\u0017t\u0001\u0018¤åµMñ\u001a:«\u0002ê¤>WTí\u001dC\u001fDé¤¤N\n",
      "\n",
      "  After decryption:\n",
      "  May your heart be your guiding key!\n",
      "\n",
      "────────────\n",
      "Encryptor 5:\n",
      "\n",
      "  After encryption:\n",
      "  \u0001ØA>ñhY&»\u0011süv¢\n",
      "¨®2Ó7ãóØÈ9ZbôIè~\n",
      "\n",
      "  After decryption:\n",
      "  May your heart be your guiding key!\n",
      "\n",
      "────────────\n",
      "Encryptor 6:\n",
      "\n",
      "  After encryption:\n",
      "  \u0001é\u0004G\u001d×ô0åAº:\u0000gÛ\u0002á\u001c\u0016\u0011½FàÒÔÁcÉ®\n",
      "_o~9\n",
      "\n",
      "  After decryption:\n",
      "  May your heart be your guiding key!\n",
      "\n",
      "────────────\n",
      "Encryptor 7:\n",
      "\n",
      "  After encryption:\n",
      "  \u0000Óo1ã+\u0019±²zwÅ\u00034ú·\u0012\u001b\u0014*2¿íR\u001dì=ÎgÿNx}R\n",
      "\n",
      "  After decryption:\n",
      "  May your heart be your guiding key!\n",
      "\n",
      "────────────\n",
      "Encryptor 8:\n",
      "\n",
      "  After encryption:\n",
      "  \u0001ÁSbÒVëí¢DW®\n",
      "â°1Ý¡àv}Îy¦¿\u0010E6\u001aAÎ\n",
      "\n",
      "  After decryption:\n",
      "  May your heart be your guiding key!\n",
      "\n",
      "────────────\n",
      "Encryptor 9:\n",
      "\n",
      "  After encryption:\n",
      "  \u0001Ìg0ô#{Ô/Þh]^ö\"\\x£,¶/s³Øa5{\u0002çÄoÅ0\n",
      "\n",
      "  After decryption:\n",
      "  May your heart be your guiding key!\n",
      "\n",
      "────────────\n",
      "Encryptor 10:\n",
      "\n",
      "  After encryption:\n",
      "  \u0001/S4Êì(Ç\u000fM¡\u001aÇRÀäÀ\u0013Ó\\\f'm\u0018é\u0014\u0014.?3ÆÑI\n",
      "\n",
      "  After decryption:\n",
      "  May your heart be your guiding key!\n",
      "\n",
      "────────────\n"
     ]
    }
   ],
   "source": [
    "# Define the number of encryptor objects to make.\n",
    "num_of_encryptors = 10\n",
    "encryptors = [Encryptor(randrange(5) + 2) for e in range(num_of_encryptors)]\n",
    "\n",
    "# Message to be encoded. This can only include characters within the first 256 Unicode values.\n",
    "message = 'May your heart be your guiding key!'\n",
    "print('Before encryption:')\n",
    "print(message)\n",
    "print()\n",
    "\n",
    "# Loop demonstrating how each encryptor encodes the string differently\n",
    "# but is still always able to decrypt back to the original message. \n",
    "count = 1\n",
    "print(12 * chr(0x2500))\n",
    "for encryptor in encryptors:\n",
    "    \n",
    "    # Print the header.\n",
    "    print('Encryptor ' + str(count) + ':')\n",
    "    print()\n",
    "    \n",
    "    # Encrypt the message and print the encryption.\n",
    "    encrypted = encryptor.encrypt(message)\n",
    "    print('  After encryption:')\n",
    "    print('  ' + encrypted)\n",
    "    print()\n",
    "    \n",
    "    # Decrypt the encryption and print the decryption.\n",
    "    decrypted = encryptor.decrypt(encrypted)\n",
    "    print('  After decryption:')\n",
    "    print('  ' + decrypted)\n",
    "    print()\n",
    "    \n",
    "    # Print the border.\n",
    "    print(12 * chr(0x2500))\n",
    "    \n",
    "    #Iterate the count for the header of the next Encryptor object.\n",
    "    count += 1"
   ]
  },
  {
   "cell_type": "code",
   "execution_count": 3,
   "metadata": {
    "scrolled": true
   },
   "outputs": [
    {
     "name": "stdout",
     "output_type": "stream",
     "text": [
      "\u001b[1m============================= test session starts =============================\u001b[0m\n",
      "platform win32 -- Python 3.8.8, pytest-8.3.3, pluggy-1.5.0\n",
      "rootdir: c:\\Users\\sonic\\Documents\\Projects\\Hill-Cipher\n",
      "plugins: anyio-4.3.0\n",
      "collected 3 items\n",
      "\n",
      "my_module\\test_functions.py \u001b[32m.\u001b[0m\u001b[32m.\u001b[0m\u001b[32m.\u001b[0m\u001b[32m                                          [100%]\u001b[0m\n",
      "\n",
      "\u001b[32m============================== \u001b[32m\u001b[1m3 passed\u001b[0m\u001b[32m in 9.75s\u001b[0m\u001b[32m ==============================\u001b[0m\n"
     ]
    }
   ],
   "source": [
    "# Run the pytest.\n",
    "!pytest"
   ]
  },
  {
   "cell_type": "markdown",
   "metadata": {},
   "source": [
    "#### Background\n",
    "\n",
    "I do have a fairly large amount of programming experience. Of all the programming languages I know (Java, MATLAB, C, C++, Python) Python is the one I have the least amount of experience with. One hurdle that I had to overcome was in how to represent matrices as a numpy array. After working on this project though, I have discovered that much of the arithmetic works similarily to MATLAB so adjusting was not an overly difficult thing to do. I feel that my project has gone above and beyond the project requirements because I was able to provide a method of encryption that is not a simple substitution of characters, leans heavily into my background in mathematics, and offers users an easy way to access a complex encryption strategy without having to understand the modular linear algebra behind it. Furthermore, I had to make a decision over whether a while loop approach was worth doing. After calculating the likelihood that a loop would run for many iterations, I decided that my approach would work well which is something I have never done before."
   ]
  }
 ],
 "metadata": {
  "kernelspec": {
   "display_name": ".venv",
   "language": "python",
   "name": "python3"
  },
  "language_info": {
   "codemirror_mode": {
    "name": "ipython",
    "version": 3
   },
   "file_extension": ".py",
   "mimetype": "text/x-python",
   "name": "python",
   "nbconvert_exporter": "python",
   "pygments_lexer": "ipython3",
   "version": "3.12.2"
  }
 },
 "nbformat": 4,
 "nbformat_minor": 2
}
